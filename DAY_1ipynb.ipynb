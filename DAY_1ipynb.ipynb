{
  "nbformat": 4,
  "nbformat_minor": 0,
  "metadata": {
    "colab": {
      "name": "DAY 1ipynb",
      "provenance": []
    },
    "kernelspec": {
      "name": "python3",
      "display_name": "Python 3"
    },
    "language_info": {
      "name": "python"
    }
  },
  "cells": [
    {
      "cell_type": "code",
      "execution_count": 7,
      "metadata": {
        "id": "UgoEfS684oX5"
      },
      "outputs": [],
      "source": [
        "import numpy as np\n",
        "import random as random"
      ]
    },
    {
      "cell_type": "code",
      "source": [
        "a=np.random.randint(10,50,(5,3))\n",
        "a"
      ],
      "metadata": {
        "colab": {
          "base_uri": "https://localhost:8080/"
        },
        "id": "hWB_rLAV4t6r",
        "outputId": "60c459ef-af6c-4a9c-f72f-5e9caeea65bf"
      },
      "execution_count": 12,
      "outputs": [
        {
          "output_type": "execute_result",
          "data": {
            "text/plain": [
              "array([[32, 29, 35],\n",
              "       [40, 13, 11],\n",
              "       [35, 16, 20],\n",
              "       [11, 44, 16],\n",
              "       [29, 48, 43]])"
            ]
          },
          "metadata": {},
          "execution_count": 12
        }
      ]
    },
    {
      "cell_type": "code",
      "source": [
        "a[2:4:,0:2]"
      ],
      "metadata": {
        "colab": {
          "base_uri": "https://localhost:8080/"
        },
        "id": "B7X96N4o46bC",
        "outputId": "6185226e-8624-44eb-eb7d-9cc33f7f45ac"
      },
      "execution_count": 22,
      "outputs": [
        {
          "output_type": "execute_result",
          "data": {
            "text/plain": [
              "array([[35, 16],\n",
              "       [11, 44]])"
            ]
          },
          "metadata": {},
          "execution_count": 22
        }
      ]
    },
    {
      "cell_type": "code",
      "source": [
        ""
      ],
      "metadata": {
        "id": "BXuDdsV86XOC"
      },
      "execution_count": null,
      "outputs": []
    }
  ]
}